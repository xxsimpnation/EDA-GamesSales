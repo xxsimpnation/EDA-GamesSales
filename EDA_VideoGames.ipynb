{
 "cells": [
  {
   "cell_type": "code",
   "execution_count": null,
   "metadata": {},
   "outputs": [],
   "source": [
    "import pandas as pd\n",
    "import numpy as np"
   ]
  },
  {
   "cell_type": "code",
   "execution_count": null,
   "metadata": {},
   "outputs": [],
   "source": [
    "import matplotlib.pyplot as plt\n",
    "import seaborn as sns"
   ]
  },
  {
   "cell_type": "code",
   "execution_count": null,
   "metadata": {},
   "outputs": [],
   "source": [
    "vgames = pd.read_csv('gamesku.csv')\n",
    "vgames"
   ]
  },
  {
   "cell_type": "code",
   "execution_count": null,
   "metadata": {},
   "outputs": [],
   "source": [
    "display(vgames.head())\n",
    "\n",
    "sns.heatmap(vgames.isnull())\n",
    "plt.show()\n",
    "\n",
    "print(vgames.shape, \"\\n\")\n",
    "\n",
    "plt.show()"
   ]
  },
  {
   "cell_type": "code",
   "execution_count": null,
   "metadata": {},
   "outputs": [],
   "source": [
    "vgames = vgames.dropna(subset=['Publisher','Year'])\n",
    "sns.heatmap(vgames.isnull())\n",
    "plt.show()\n",
    "print(vgames.shape, \"\\n\")"
   ]
  },
  {
   "cell_type": "code",
   "execution_count": null,
   "metadata": {},
   "outputs": [],
   "source": [
    "print('row :', vgames.shape[0])\n",
    "print('column :', vgames.shape[1])\n",
    "print(vgames.info(),'\\n')\n",
    "print(vgames.describe())"
   ]
  },
  {
   "cell_type": "code",
   "execution_count": null,
   "metadata": {},
   "outputs": [],
   "source": [
    "publishercol = vgames.drop(columns = ['Rank', 'Year', 'Genre', 'Name','Platform'])\n",
    "publishersum = publishercol.groupby('Publisher').sum()\n",
    "publishersum = publishersum.sort_values(by=['Global_Sales'], ascending=False).head(10)\n",
    "publishersum = publishersum.rename(index={'Electronic Arts':'EA',\n",
    "                                    'Sony Computer Entertainment': 'Sony',\n",
    "                                    'Take-Two Interactive': 'Take-Two',\n",
    "                                    'Konami Digital Entertainment':'Konami',\n",
    "                                    'Namco Bandai Games':'Namco'})\n",
    "publishersum"
   ]
  },
  {
   "cell_type": "code",
   "execution_count": null,
   "metadata": {},
   "outputs": [],
   "source": [
    "publishermean = publishersum.drop(columns = 'Global_Sales')\n",
    "publishermean = publishermean.mean(axis=1) \n",
    "publishermean"
   ]
  },
  {
   "cell_type": "code",
   "execution_count": null,
   "metadata": {},
   "outputs": [],
   "source": [
    "fig, ax = plt.subplots(1,2, figsize=(15,5))\n",
    "\n",
    "sns.barplot(x=publishersum.index, y=publishersum['Global_Sales'], ax=ax[0])\n",
    "# sns.set_style(\"whitegrid\")\n",
    "ax[0].set_title('Top 10 Video Game Company')\n",
    "\n",
    "sns.barplot(x=publishermean.index, y=publishermean, ax=ax[1])\n",
    "# sns.set_style(\"darkgrid\")\n",
    "ax[1].set_title('Average Region Sales Video Games')\n",
    "plt.show()"
   ]
  },
  {
   "cell_type": "code",
   "execution_count": null,
   "metadata": {},
   "outputs": [],
   "source": [
    "publisherheatmap = publishersum.rename(columns={'NA_Sales':'NA',\n",
    "                                    'EU_Sales': 'Europe',\n",
    "                                    'JP_Sales': 'Japan',\n",
    "                                    'Other_Sales':'Other',\n",
    "                                    'Global_Sales':'Global'})\n",
    "sns.heatmap(publisherheatmap)\n",
    "plt.title('Sales Distribution Region')\n",
    "plt.show()"
   ]
  },
  {
   "cell_type": "code",
   "execution_count": null,
   "metadata": {},
   "outputs": [],
   "source": [
    "genre = vgames.drop(columns = ['Rank', 'Year','Name','Platform','Publisher'])\n",
    "genre"
   ]
  },
  {
   "cell_type": "code",
   "execution_count": null,
   "metadata": {},
   "outputs": [],
   "source": [
    "genrecounts = genre.groupby('Genre').count()\n",
    "genrecounts = genrecounts.rename(index={'Role-Playing':'Roleplay'})\n",
    "genrecounts = genrecounts.sort_values('NA_Sales', ascending=False)\n",
    "genrecounts"
   ]
  },
  {
   "cell_type": "code",
   "execution_count": null,
   "metadata": {},
   "outputs": [],
   "source": [
    "plt.figure(figsize=(10,6))\n",
    "plt.title(\"Genre Distribution Sales\")\n",
    "sns.barplot(x=genrecounts['NA_Sales'], y=genrecounts.index)\n",
    "sns.set_style(\"darkgrid\")"
   ]
  },
  {
   "cell_type": "code",
   "execution_count": null,
   "metadata": {},
   "outputs": [],
   "source": [
    "yeargrowth = vgames.drop(columns = ['Rank', 'Genre', 'Name','Platform','NA_Sales','EU_Sales', 'JP_Sales','NA_Sales', 'Other_Sales'])\n",
    "yeargrowth"
   ]
  },
  {
   "cell_type": "code",
   "execution_count": null,
   "metadata": {},
   "outputs": [],
   "source": [
    "nintendogrow = yeargrowth[yeargrowth['Publisher'] == 'Nintendo']\n",
    "eagrow = yeargrowth[yeargrowth['Publisher'] == 'Electronic Arts']\n",
    "activisiongrow = yeargrowth[yeargrowth['Publisher'] == 'Activision']\n",
    "sonygrow = yeargrowth[yeargrowth['Publisher'] == 'Sony Computer Entertainment']"
   ]
  },
  {
   "cell_type": "code",
   "execution_count": null,
   "metadata": {},
   "outputs": [],
   "source": [
    "fig, ax = plt.subplots(2,2,figsize=(20,12))\n",
    "\n",
    "nintendogrow = nintendogrow.groupby('Year').sum()\n",
    "eagrow = eagrow.groupby('Year').sum()\n",
    "activisiongrow = activisiongrow.groupby('Year').sum()\n",
    "sonygrow = sonygrow.groupby('Year').sum()\n",
    "\n",
    "ax[0,0].plot(nintendogrow)\n",
    "ax[0,0].set_title('Nintendo Sales Growth')\n",
    "\n",
    "ax[0,1].plot(eagrow)\n",
    "ax[0,1].set_title('EA Sales Growth')\n",
    "\n",
    "ax[1,0].plot(activisiongrow)\n",
    "ax[1,0].set_title('Activision Sales Growth')\n",
    "\n",
    "ax[1,1].plot(sonygrow)\n",
    "ax[1,1].set_title('Sony Sales Growth')"
   ]
  },
  {
   "cell_type": "code",
   "execution_count": null,
   "metadata": {},
   "outputs": [],
   "source": [
    "platform = vgames.drop(columns = ['Rank', 'Genre', 'Name','Year','Publisher','NA_Sales','EU_Sales', 'JP_Sales','NA_Sales', 'Other_Sales'])\n",
    "platform = platform.groupby('Platform').count()\n",
    "platform = platform.sort_values('Global_Sales', ascending=False)\n",
    "platform = platform.head(10)\n",
    "# platform = platform['Platform'].value_counts()\n",
    "# platform = platform.head(10)\n",
    "platform "
   ]
  },
  {
   "cell_type": "code",
   "execution_count": null,
   "metadata": {},
   "outputs": [],
   "source": [
    "plt.figure(figsize=(12,6))\n",
    "plt.title(\"Platform Distribution Sales\")\n",
    "diverging_colors = sns.color_palette(\"hls\", 8)\n",
    "sns.set_palette(diverging_colors)\n",
    "sns.barplot(x=platform.index, y=platform['Global_Sales'])\n",
    "\n",
    "# sns.set_style(\"darkgrid\")"
   ]
  },
  {
   "cell_type": "code",
   "execution_count": null,
   "metadata": {},
   "outputs": [],
   "source": [
    "\n"
   ]
  }
 ],
 "metadata": {
  "kernelspec": {
   "name": "python3",
   "display_name": "Python 3.9.1 64-bit",
   "metadata": {
    "interpreter": {
     "hash": "2647ea34e536f865ab67ff9ddee7fd78773d956cec0cab53c79b32cd10da5d83"
    }
   }
  },
  "language_info": {
   "codemirror_mode": {
    "name": "ipython",
    "version": 3
   },
   "file_extension": ".py",
   "mimetype": "text/x-python",
   "name": "python",
   "nbconvert_exporter": "python",
   "pygments_lexer": "ipython3",
   "version": "3.9.1-final"
  }
 },
 "nbformat": 4,
 "nbformat_minor": 4
}